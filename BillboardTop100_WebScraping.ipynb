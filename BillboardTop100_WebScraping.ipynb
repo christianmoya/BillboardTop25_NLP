{
 "cells": [
  {
   "cell_type": "code",
   "execution_count": 1,
   "metadata": {},
   "outputs": [],
   "source": [
    "# import necessary libraries\n",
    "import requests\n",
    "from bs4 import BeautifulSoup\n",
    "import pandas as pd"
   ]
  },
  {
   "cell_type": "markdown",
   "metadata": {},
   "source": [
    "### Scrape Billboard Top 100"
   ]
  },
  {
   "cell_type": "code",
   "execution_count": 2,
   "metadata": {},
   "outputs": [],
   "source": [
    "# extract data from billboard.com to get top 100 songs\n",
    "url = 'https://www.billboard.com/charts/year-end/2020/hot-100-songs'\n",
    "html_page = requests.get(url)\n",
    "soup = BeautifulSoup(html_page.content, 'html.parser')\n",
    "\n",
    "# create list of songs \n",
    "songs_container = soup.find('div', class_=\"container container--xxlight-grey container--no-side-padding\")"
   ]
  },
  {
   "cell_type": "code",
   "execution_count": 3,
   "metadata": {},
   "outputs": [
    {
     "data": {
      "text/plain": [
       "['Blinding Lights', 'Circles', 'The Box', \" Don't Start Now\", 'Rockstar']"
      ]
     },
     "execution_count": 3,
     "metadata": {},
     "output_type": "execute_result"
    }
   ],
   "source": [
    "songs = songs_container.findAll('div', class_=\"ye-chart-item__title\")\n",
    "songs_2020 = [song.text.replace('\\n', '') for song in songs_container.findAll('div', class_=\"ye-chart-item__title\")]\n",
    "songs_2020[:5]"
   ]
  },
  {
   "cell_type": "code",
   "execution_count": 4,
   "metadata": {},
   "outputs": [
    {
     "data": {
      "text/plain": [
       "['The Weeknd',\n",
       " 'Post Malone',\n",
       " 'Roddy Ricch',\n",
       " 'Dua Lipa',\n",
       " 'DaBaby Featuring Roddy Ricch']"
      ]
     },
     "execution_count": 4,
     "metadata": {},
     "output_type": "execute_result"
    }
   ],
   "source": [
    "artists = songs_container.findAll('div', class_=\"ye-chart-item__artist\")\n",
    "artists_2020 = [artist.text.replace('\\n', '') for artist in artists]\n",
    "artists_2020[:5]"
   ]
  },
  {
   "cell_type": "markdown",
   "metadata": {},
   "source": [
    "### Scrape Lyrics from Genius"
   ]
  },
  {
   "cell_type": "code",
   "execution_count": 5,
   "metadata": {},
   "outputs": [],
   "source": [
    "# create function that scrapes lyrics for songs from genius.com\n",
    "def scrape_lyrics(artist, song):\n",
    "    \n",
    "    # create url \n",
    "    punc = \"\"\"!()-[]{};:'\"\\,<>./?@#$%^&*_~\"\"\"\n",
    "    for ele in artist: \n",
    "        if ele in punc: \n",
    "            artist = artist.replace(ele, \"\") \n",
    "    for ele in song:\n",
    "        if ele in punc:\n",
    "            song = song.replace(ele, \"\")\n",
    "    artist = artist.lower().replace(' ','-')\n",
    "    song = song.lower().replace(' ', '-')\n",
    "    url = 'https://genius.com/' + artist + '-' + song + '-lyrics'\n",
    "    \n",
    "    # scrape lyrics\n",
    "    headers = {\"User-Agent\": 'Mozilla/5.0'}\n",
    "    html_page = requests.get(url, headers=headers)\n",
    "    soup = BeautifulSoup(html_page.content, 'html.parser')\n",
    "    lyrics = soup.find('p')\n",
    "    return lyrics.text.replace('\\n', ' ')"
   ]
  },
  {
   "cell_type": "code",
   "execution_count": 6,
   "metadata": {},
   "outputs": [
    {
     "data": {
      "text/plain": [
       "\"[Verse 1] You know you can call me if you need someone I'll pick up the pieces if you come undone  [Pre-Chorus] Painting stars up on your ceiling 'Cause you wish that you could find some feeling, yeah, you You know you can call me if you need someone  [Chorus] I need you to hold on Heaven is a place not too far away We all know I should be the one To say we all make mistakes (We all make mistakes) Take my hand and hold on Tell me everything that you need to say 'Cause I know how it feels to be someone (Someone) Feels to be someone who loses their way  [Verse 2] You're looking for answers in a place unknown You need the connection but you can't get close (Can't get close)  [Pre-Chorus] Painting stars up on your ceiling 'Cause you wish that you could find some feeling, yeah, you You know you can call me if you need someone  [Chorus] I need you to hold on (Hold on) Heaven is a place not too far away (Away, yeah) We all know I should be the one To say we all make mistakes (We all make mistakes) Take my hand and hold on (Oh, oh, oh-woah, oh-woah) Tell me everything that you need to say 'Cause I know how it feels to be someone Feels to be someone who loses their way  [Post-Chorus] Midnight 'til morning Call if you need somebody I will be there for you (I will be there for you) Midnight 'til morning Call if you need somebody I will be there for you  [Chorus] I need you to hold on Heaven is a place not too far away We all know I should be the one To say we all make mistakes (We all make mistakes) Take my hand and hold on (Hold on) Tell me everything that you need to say 'Cause I know how it feels to be someone (Ooh, yeah) Feels to be someone who loses their way  [Post-Chorus] Midnight 'til morning Call if you need somebody I will be there for you (Oh, yeah, yeah) Midnight 'til morning Call if you need somebody I will be there for you\""
      ]
     },
     "execution_count": 6,
     "metadata": {},
     "output_type": "execute_result"
    }
   ],
   "source": [
    "# test out function \n",
    "scrape_lyrics('Justin Bieber', \"Hold On\")"
   ]
  },
  {
   "cell_type": "markdown",
   "metadata": {},
   "source": [
    "### Get Billboard Top 100's (1970-2020)"
   ]
  },
  {
   "cell_type": "code",
   "execution_count": 7,
   "metadata": {},
   "outputs": [],
   "source": [
    "# Create function that creates dataframe for Billboard Top 100 \n",
    "def billboard_to_df(year):\n",
    "    \n",
    "    # scrape billboard top 100 \n",
    "    url = 'https://www.billboard.com/charts/year-end/' + str(year) +'/hot-100-songs'\n",
    "    html_page = requests.get(url)\n",
    "    soup = BeautifulSoup(html_page.content, 'html.parser')\n",
    "    \n",
    "    # create list of songs \n",
    "    songs_container = soup.find('div', class_=\"container container--xxlight-grey container--no-side-padding\")\n",
    "    songs = songs_container.findAll('div', class_=\"ye-chart-item__title\")\n",
    "    songs_list = [song.text.replace('\\n', '') for song in songs_container.findAll('div', class_=\"ye-chart-item__title\")]\n",
    "    \n",
    "    # create list of artists\n",
    "    artists = songs_container.findAll('div', class_=\"ye-chart-item__artist\")\n",
    "    artists_list = [artist.text.replace('\\n', '') for artist in artists]\n",
    "    \n",
    "    # scrape lyrics \n",
    "    lyrics_list = []\n",
    "    for i in list(range(len(songs_list))):\n",
    "        lyrics = scrape_lyrics(artists_list[i], songs_list[i])\n",
    "        lyrics_list.append(lyrics)\n",
    "    \n",
    "    # create column for rank and year\n",
    "    rank = list(range(len(songs_list)))\n",
    "    year = [year for i in rank]\n",
    "    \n",
    "    # create dataframe\n",
    "    df = pd.DataFrame({'year':year, 'rank':rank, 'song':songs_list, 'artist':artists_list, 'lyrics':lyrics_list})\n",
    "    return df"
   ]
  },
  {
   "cell_type": "code",
   "execution_count": 8,
   "metadata": {
    "scrolled": false
   },
   "outputs": [
    {
     "name": "stdout",
     "output_type": "stream",
     "text": [
      "1971\n",
      "1972\n",
      "1973\n",
      "1974\n",
      "1975\n",
      "1976\n",
      "1977\n",
      "1978\n",
      "1979\n",
      "1980\n"
     ]
    }
   ],
   "source": [
    "# create initial dataframe for 1970's billboard top 100 \n",
    "year = 1970 \n",
    "df = billboard_to_df(year)\n",
    "\n",
    "# append top billboard 1970's \n",
    "while year < 1980:\n",
    "    year += 1 \n",
    "    df = df.append(billboard_to_df(year))\n",
    "    print(year)"
   ]
  },
  {
   "cell_type": "code",
   "execution_count": 16,
   "metadata": {},
   "outputs": [],
   "source": [
    "# append top billboard 1980's \n",
    "while year < 1990:\n",
    "    year += 1 \n",
    "    df = df.append(billboard_to_df(year))\n",
    "    print(year)"
   ]
  },
  {
   "cell_type": "code",
   "execution_count": 21,
   "metadata": {},
   "outputs": [
    {
     "name": "stdout",
     "output_type": "stream",
     "text": [
      "1991\n",
      "1992\n",
      "1993\n",
      "1994\n",
      "1995\n",
      "1996\n",
      "1997\n",
      "1998\n",
      "1999\n",
      "2000\n"
     ]
    }
   ],
   "source": [
    "# append top billboard 1990's \n",
    "while year < 2000:\n",
    "    year += 1 \n",
    "    df = df.append(billboard_to_df(year))\n",
    "    print(year)"
   ]
  },
  {
   "cell_type": "code",
   "execution_count": 31,
   "metadata": {},
   "outputs": [
    {
     "name": "stdout",
     "output_type": "stream",
     "text": [
      "2009\n",
      "2010\n"
     ]
    }
   ],
   "source": [
    "# append top billboard 2000's \n",
    "while year < 2010:\n",
    "    year += 1 \n",
    "    df = df.append(billboard_to_df(year))\n",
    "    print(year)"
   ]
  },
  {
   "cell_type": "code",
   "execution_count": 33,
   "metadata": {},
   "outputs": [
    {
     "name": "stdout",
     "output_type": "stream",
     "text": [
      "2011\n",
      "2012\n",
      "2013\n",
      "2014\n",
      "2015\n",
      "2016\n",
      "2017\n",
      "2018\n",
      "2019\n",
      "2020\n"
     ]
    }
   ],
   "source": [
    "# append top billboard 2010's \n",
    "while year < 2020:\n",
    "    year += 1 \n",
    "    df = df.append(billboard_to_df(year))\n",
    "    print(year)"
   ]
  },
  {
   "cell_type": "code",
   "execution_count": null,
   "metadata": {},
   "outputs": [],
   "source": [
    "#85 87 88 90"
   ]
  },
  {
   "cell_type": "code",
   "execution_count": 40,
   "metadata": {},
   "outputs": [],
   "source": [
    "df = df.append(billboard_to_df(1985))"
   ]
  },
  {
   "cell_type": "code",
   "execution_count": 42,
   "metadata": {},
   "outputs": [],
   "source": [
    "df = df.append(billboard_to_df(1987))"
   ]
  },
  {
   "cell_type": "code",
   "execution_count": 44,
   "metadata": {},
   "outputs": [],
   "source": [
    "df = df.append(billboard_to_df(1988))"
   ]
  },
  {
   "cell_type": "code",
   "execution_count": 46,
   "metadata": {},
   "outputs": [],
   "source": [
    "df = df.append(billboard_to_df(1990))"
   ]
  },
  {
   "cell_type": "markdown",
   "metadata": {},
   "source": [
    "### Preview DataFrame and Save"
   ]
  },
  {
   "cell_type": "code",
   "execution_count": 48,
   "metadata": {},
   "outputs": [
    {
     "name": "stdout",
     "output_type": "stream",
     "text": [
      "<class 'pandas.core.frame.DataFrame'>\n",
      "Int64Index: 4553 entries, 0 to 89\n",
      "Data columns (total 5 columns):\n",
      " #   Column  Non-Null Count  Dtype \n",
      "---  ------  --------------  ----- \n",
      " 0   year    4553 non-null   int64 \n",
      " 1   rank    4553 non-null   int64 \n",
      " 2   song    4553 non-null   object\n",
      " 3   artist  4553 non-null   object\n",
      " 4   lyrics  4553 non-null   object\n",
      "dtypes: int64(2), object(3)\n",
      "memory usage: 213.4+ KB\n"
     ]
    },
    {
     "data": {
      "text/html": [
       "<div>\n",
       "<style scoped>\n",
       "    .dataframe tbody tr th:only-of-type {\n",
       "        vertical-align: middle;\n",
       "    }\n",
       "\n",
       "    .dataframe tbody tr th {\n",
       "        vertical-align: top;\n",
       "    }\n",
       "\n",
       "    .dataframe thead th {\n",
       "        text-align: right;\n",
       "    }\n",
       "</style>\n",
       "<table border=\"1\" class=\"dataframe\">\n",
       "  <thead>\n",
       "    <tr style=\"text-align: right;\">\n",
       "      <th></th>\n",
       "      <th>year</th>\n",
       "      <th>rank</th>\n",
       "      <th>song</th>\n",
       "      <th>artist</th>\n",
       "      <th>lyrics</th>\n",
       "    </tr>\n",
       "  </thead>\n",
       "  <tbody>\n",
       "    <tr>\n",
       "      <th>85</th>\n",
       "      <td>1990</td>\n",
       "      <td>85</td>\n",
       "      <td>Without You</td>\n",
       "      <td>Motley Crue</td>\n",
       "      <td>Without you, there's no change My nights and d...</td>\n",
       "    </tr>\n",
       "    <tr>\n",
       "      <th>86</th>\n",
       "      <td>1990</td>\n",
       "      <td>86</td>\n",
       "      <td>Swing The Mood</td>\n",
       "      <td>Jive Bunny &amp; The Mastermixers</td>\n",
       "      <td>Sorry, we didn't mean for that to happen!</td>\n",
       "    </tr>\n",
       "    <tr>\n",
       "      <th>87</th>\n",
       "      <td>1990</td>\n",
       "      <td>87</td>\n",
       "      <td>Thieves In The Temple</td>\n",
       "      <td>Prince</td>\n",
       "      <td>[Chorus] Love come quick Love come in a hurry ...</td>\n",
       "    </tr>\n",
       "    <tr>\n",
       "      <th>88</th>\n",
       "      <td>1990</td>\n",
       "      <td>88</td>\n",
       "      <td>Mentirosa</td>\n",
       "      <td>Mellow Man Ace</td>\n",
       "      <td>[Intro: Band] Ain't got nobody, baby...baby  [...</td>\n",
       "    </tr>\n",
       "    <tr>\n",
       "      <th>89</th>\n",
       "      <td>1990</td>\n",
       "      <td>89</td>\n",
       "      <td>Tic-Tac-Toe</td>\n",
       "      <td>Kyper</td>\n",
       "      <td>Sorry, we didn't mean for that to happen!</td>\n",
       "    </tr>\n",
       "  </tbody>\n",
       "</table>\n",
       "</div>"
      ],
      "text/plain": [
       "    year  rank                   song                         artist  \\\n",
       "85  1990    85            Without You                    Motley Crue   \n",
       "86  1990    86         Swing The Mood  Jive Bunny & The Mastermixers   \n",
       "87  1990    87  Thieves In The Temple                         Prince   \n",
       "88  1990    88              Mentirosa                 Mellow Man Ace   \n",
       "89  1990    89            Tic-Tac-Toe                          Kyper   \n",
       "\n",
       "                                               lyrics  \n",
       "85  Without you, there's no change My nights and d...  \n",
       "86       Sorry, we didn't mean for that to happen!     \n",
       "87  [Chorus] Love come quick Love come in a hurry ...  \n",
       "88  [Intro: Band] Ain't got nobody, baby...baby  [...  \n",
       "89       Sorry, we didn't mean for that to happen!     "
      ]
     },
     "execution_count": 48,
     "metadata": {},
     "output_type": "execute_result"
    }
   ],
   "source": [
    "df.info()\n",
    "df.tail()"
   ]
  },
  {
   "cell_type": "code",
   "execution_count": 49,
   "metadata": {},
   "outputs": [],
   "source": [
    "# save dataframe \n",
    "df.to_csv('billboards.csv')"
   ]
  }
 ],
 "metadata": {
  "kernelspec": {
   "display_name": "Python 3",
   "language": "python",
   "name": "python3"
  },
  "language_info": {
   "codemirror_mode": {
    "name": "ipython",
    "version": 3
   },
   "file_extension": ".py",
   "mimetype": "text/x-python",
   "name": "python",
   "nbconvert_exporter": "python",
   "pygments_lexer": "ipython3",
   "version": "3.8.3"
  }
 },
 "nbformat": 4,
 "nbformat_minor": 4
}
